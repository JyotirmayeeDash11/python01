{
 "cells": [
  {
   "cell_type": "code",
   "execution_count": 3,
   "id": "db553268",
   "metadata": {},
   "outputs": [
    {
     "name": "stdout",
     "output_type": "stream",
     "text": [
      "Enter a decimal number: 7\n",
      "Hexadecimal of 7 is:-\n",
      "7\n"
     ]
    }
   ],
   "source": [
    "def decimal_to_hexadecimal(num):\n",
    "\n",
    "   print(hex(num).split('x')[-1])\n",
    "\n",
    "num= int(input(\"Enter a decimal number: \"))\n",
    "print(f\"Hexadecimal of {num} is:-\")\n",
    "decimal_to_hexadecimal(num)"
   ]
  },
  {
   "cell_type": "code",
   "execution_count": 4,
   "id": "431cd0af",
   "metadata": {},
   "outputs": [
    {
     "name": "stdout",
     "output_type": "stream",
     "text": [
      "Enter a decimal number: 2\n",
      "Binary of 2 is:-\n",
      "10"
     ]
    }
   ],
   "source": [
    "# Decimal to binary(method 1)\n",
    "def decimal_to_binary(num):\n",
    "\n",
    "    if(num>1):\n",
    "        decimal_to_binary(num//2)\n",
    "\n",
    "    \n",
    "    print(num%2 , end=\"\")\n",
    "\n",
    "num= int(input(\"Enter a decimal number: \"))\n",
    "print(f\"Binary of {num} is:-\")\n",
    "decimal_to_binary(num)"
   ]
  },
  {
   "cell_type": "code",
   "execution_count": 5,
   "id": "72bfbcbf",
   "metadata": {},
   "outputs": [
    {
     "name": "stdout",
     "output_type": "stream",
     "text": [
      "Enter a number to find it's factors 8\n",
      "Factors of 8 is:\n",
      "1 2 4 8 "
     ]
    }
   ],
   "source": [
    "# Calculating factors of a number using 'RECURSION'\n",
    "\n",
    "\n",
    "def factors(n,i):\n",
    "\n",
    "\n",
    "    if i>n:\n",
    "        return 0\n",
    "    if i<=n:\n",
    "        if n%i == 0:\n",
    "            print(i, end=\" \")\n",
    "    \n",
    "    factors(n, i+1)\n",
    "\n",
    "\n",
    "\n",
    "n=int(input(\"Enter a number to find it's factors \"))\n",
    "print(f\"Factors of {n} is:\")\n",
    "factors(n,1)"
   ]
  },
  {
   "cell_type": "code",
   "execution_count": 6,
   "id": "295abcfe",
   "metadata": {},
   "outputs": [
    {
     "name": "stdout",
     "output_type": "stream",
     "text": [
      "Enter any number:121\n",
      "121 is not an armstrong number\n"
     ]
    }
   ],
   "source": [
    "# Qno- TO check whether it is armstrong number or not\n",
    "\n",
    "num=int(input(\"Enter any number:\"))\n",
    "sum=0\n",
    "temp=num\n",
    "while num!=0:\n",
    "    rem = num%10\n",
    "    sum+= rem**3\n",
    "    num = num//10\n",
    "if temp==sum:\n",
    "    print(temp ,'is an armstrong number')\n",
    "else:\n",
    "    print(temp ,'is not an armstrong number')"
   ]
  },
  {
   "cell_type": "code",
   "execution_count": 7,
   "id": "ba6fc4a3",
   "metadata": {},
   "outputs": [
    {
     "name": "stdout",
     "output_type": "stream",
     "text": [
      "Enter a number: 5\n",
      "Factorial of 5:  120\n"
     ]
    }
   ],
   "source": [
    "# WAP to print factorial of a number, where number is entered by user\n",
    "\n",
    "num=int(input(\"Enter a number: \"))\n",
    "fac=1\n",
    "for i in range(1,num+1):\n",
    " fac=fac*i\n",
    "print(f\"Factorial of {num}: \" ,fac)"
   ]
  },
  {
   "cell_type": "code",
   "execution_count": 9,
   "id": "c5f5a498",
   "metadata": {},
   "outputs": [
    {
     "name": "stdout",
     "output_type": "stream",
     "text": [
      "Enter any word: python\n",
      "Oiginal word:  python\n",
      "Word in alphabetical order:  ['h', 'n', 'o', 'p', 't', 'y']\n"
     ]
    }
   ],
   "source": [
    "word=input(\"Enter any word: \")\n",
    "print(\"Oiginal word: \", word)\n",
    "print(\"Word in alphabetical order: \", sorted(word))"
   ]
  },
  {
   "cell_type": "code",
   "execution_count": 10,
   "id": "d061e8eb",
   "metadata": {},
   "outputs": [
    {
     "name": "stdout",
     "output_type": "stream",
     "text": [
      "Enter a number: 11\n",
      "0 1 1 2 3 5 8 13 21 34 55 "
     ]
    }
   ],
   "source": [
    "# Qno-fibonacci Series\n",
    "num=int(input(\"Enter a number: \"))\n",
    "a=-1\n",
    "b=1\n",
    "for i in range(num):\n",
    "    c=a+b\n",
    "    print(c,end=\" \")\n",
    "    a=b\n",
    "    b=c"
   ]
  },
  {
   "cell_type": "code",
   "execution_count": 11,
   "id": "a1c77dd9",
   "metadata": {},
   "outputs": [
    {
     "name": "stdout",
     "output_type": "stream",
     "text": [
      "Enter a number: 10\n",
      "10 is positive\n"
     ]
    }
   ],
   "source": [
    "# Qno-WAP to check weather a number is positive,negative or zero\n",
    "num=int(input(\"Enter a number: \"))\n",
    "print(f\"{num} is positive\") if num>0 else print(f\"{num} is negative\") if num<0 else print(f\"number is {num} \")"
   ]
  },
  {
   "cell_type": "code",
   "execution_count": 12,
   "id": "2bef103e",
   "metadata": {},
   "outputs": [
    {
     "name": "stdout",
     "output_type": "stream",
     "text": [
      "Power of two till 2^10\n",
      "1\n",
      "2\n",
      "4\n",
      "8\n",
      "16\n",
      "32\n",
      "64\n",
      "128\n",
      "256\n",
      "512\n"
     ]
    }
   ],
   "source": [
    "def power_of_two():\n",
    "\n",
    "    print(\"Power of two till 2^10\")\n",
    "    for i in range(0,10):\n",
    "        print(2**i)\n",
    "\n",
    "power_of_two()"
   ]
  },
  {
   "cell_type": "code",
   "execution_count": null,
   "id": "72e8e303",
   "metadata": {},
   "outputs": [],
   "source": []
  }
 ],
 "metadata": {
  "kernelspec": {
   "display_name": "Python 3",
   "language": "python",
   "name": "python3"
  },
  "language_info": {
   "codemirror_mode": {
    "name": "ipython",
    "version": 3
   },
   "file_extension": ".py",
   "mimetype": "text/x-python",
   "name": "python",
   "nbconvert_exporter": "python",
   "pygments_lexer": "ipython3",
   "version": "3.8.8"
  }
 },
 "nbformat": 4,
 "nbformat_minor": 5
}
